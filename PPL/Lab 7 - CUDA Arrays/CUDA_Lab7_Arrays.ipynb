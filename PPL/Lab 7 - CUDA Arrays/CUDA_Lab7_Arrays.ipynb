{
  "nbformat": 4,
  "nbformat_minor": 0,
  "metadata": {
    "colab": {
      "provenance": [],
      "gpuType": "T4",
      "toc_visible": true,
      "collapsed_sections": [
        "K73PiuVUoaoo"
      ]
    },
    "kernelspec": {
      "name": "python3",
      "display_name": "Python 3"
    },
    "language_info": {
      "name": "python"
    },
    "accelerator": "GPU"
  },
  "cells": [
    {
      "cell_type": "markdown",
      "source": [
        "# **LAB 6 PPL**"
      ],
      "metadata": {
        "id": "dkRK_uSNn8qJ"
      }
    },
    {
      "cell_type": "markdown",
      "source": [
        "## Add 2 vectors using N threads\n",
        "\n"
      ],
      "metadata": {
        "id": "K73PiuVUoaoo"
      }
    },
    {
      "cell_type": "code",
      "source": [
        "%%writefile add.cu\n",
        "#include<stdio.h>\n",
        "#include \"cuda_runtime.h\"\n",
        "#include \"device_launch_parameters.h\"\n",
        "\n",
        "__global__ void add(int *a, int *b,int *c, int n)\n",
        "{\n",
        "  int i=threadIdx.x;\n",
        "\n",
        "  if(i<n)\n",
        "    c[i]=a[i]+b[i];\n",
        "}\n",
        "\n",
        "int main()\n",
        "{\n",
        "    int n;\n",
        "    printf(\"Enter a number : \");\n",
        "    scanf(\"%d\",&n);\n",
        "\n",
        "    int arr1[n],arr2[n],res[n];\n",
        "    printf(\"Enter %d elements of first array : \",n);\n",
        "    for(int i=0;i<n;i++)\n",
        "      scanf(\"%d\",&arr1[i]);\n",
        "\n",
        "    printf(\"Enter %d elements of second array : \",n);\n",
        "    for(int i=0;i<n;i++)\n",
        "      scanf(\"%d\",&arr2[i]);\n",
        "\n",
        "    int *d_A1,*d_A2,*d_res;\n",
        "\n",
        "    cudaMalloc((void**)&d_A1,n*sizeof(int));\n",
        "    cudaMalloc((void**)&d_A2,n*sizeof(int));\n",
        "    cudaMalloc((void**)&d_res,n*sizeof(int));\n",
        "\n",
        "    cudaMemcpy(d_A1,arr1,n*sizeof(int),cudaMemcpyHostToDevice);\n",
        "    cudaMemcpy(d_A2,arr2,n*sizeof(int),cudaMemcpyHostToDevice);\n",
        "\n",
        "    add<<<1,n>>>(d_A1,d_A2,d_res,n);\n",
        "\n",
        "    cudaMemcpy(res,d_res,n*sizeof(int),cudaMemcpyDeviceToHost);\n",
        "    printf(\"Result : \");\n",
        "    for(int i=0;i<n;i++)\n",
        "      printf(\"%d \",res[i]);\n",
        "\n",
        "    cudaFree(d_A1);\n",
        "    cudaFree(d_A2);\n",
        "    cudaFree(d_res);\n",
        "\n",
        "    return 0;\n",
        "}"
      ],
      "metadata": {
        "colab": {
          "base_uri": "https://localhost:8080/"
        },
        "id": "1iazPJMVpS4H",
        "outputId": "33832dda-abd9-40e8-8c02-a7a2eac3d540"
      },
      "execution_count": 29,
      "outputs": [
        {
          "output_type": "stream",
          "name": "stdout",
          "text": [
            "Overwriting add.cu\n"
          ]
        }
      ]
    },
    {
      "cell_type": "code",
      "source": [
        "!nvcc add.cu -o add\n",
        "!./add"
      ],
      "metadata": {
        "colab": {
          "base_uri": "https://localhost:8080/"
        },
        "id": "3ASksMunr2gQ",
        "outputId": "479f296e-bc6c-42be-b4cd-db106da42cae"
      },
      "execution_count": 30,
      "outputs": [
        {
          "output_type": "stream",
          "name": "stdout",
          "text": [
            "Enter a number : 2\n",
            "Enter 2 elements of first array : 1\n",
            "2\n",
            "Enter 2 elements of second array : 4\n",
            "5\n",
            "Result : 5 7 "
          ]
        }
      ]
    },
    {
      "cell_type": "markdown",
      "source": [
        "## Add vector elements of size >256"
      ],
      "metadata": {
        "id": "Mo9plv05Dm5q"
      }
    },
    {
      "cell_type": "code",
      "source": [
        "%%writefile addBlocks.cu\n",
        "#include<stdio.h>\n",
        "#include \"cuda_runtime.h\"\n",
        "#include \"device_launch_parameters.h\"\n",
        "\n",
        "__global__ void add(int *a, int *b,int *c, int n)\n",
        "{\n",
        "  int i=blockIdx.x*blockDim.x+threadIdx.x;\n",
        "\n",
        "  if(i<n)\n",
        "    c[i]=a[i]+b[i];\n",
        "}\n",
        "\n",
        "int main()\n",
        "{\n",
        "    int n;\n",
        "    printf(\"Enter a number (>256) : \");\n",
        "    scanf(\"%d\",&n);\n",
        "\n",
        "    int arr1[n],arr2[n],res[n];\n",
        "    for(int i=0;i<n;i++)\n",
        "    {\n",
        "      arr1[i]=i+1;\n",
        "      arr2[i]=i+10;\n",
        "    }\n",
        "\n",
        "    int *d_A1,*d_A2,*d_res;\n",
        "\n",
        "    cudaMalloc((void**)&d_A1,n*sizeof(int));\n",
        "    cudaMalloc((void**)&d_A2,n*sizeof(int));\n",
        "    cudaMalloc((void**)&d_res,n*sizeof(int));\n",
        "\n",
        "    cudaMemcpy(d_A1,arr1,n*sizeof(int),cudaMemcpyHostToDevice);\n",
        "    cudaMemcpy(d_A2,arr2,n*sizeof(int),cudaMemcpyHostToDevice);\n",
        "\n",
        "    add<<<ceil(n/256.0),256>>>(d_A1,d_A2,d_res,n);\n",
        "\n",
        "    cudaMemcpy(res,d_res,n*sizeof(int),cudaMemcpyDeviceToHost);\n",
        "    printf(\"Result : \");\n",
        "    for(int i=0;i<n;i++)\n",
        "      printf(\"%d \",res[i]);\n",
        "\n",
        "    cudaFree(d_A1);\n",
        "    cudaFree(d_A2);\n",
        "    cudaFree(d_res);\n",
        "\n",
        "    return 0;\n",
        "}"
      ],
      "metadata": {
        "colab": {
          "base_uri": "https://localhost:8080/"
        },
        "id": "tfMMGvwqD0UD",
        "outputId": "3d93688f-9b25-4658-bed5-c5a8a5030b76"
      },
      "execution_count": 4,
      "outputs": [
        {
          "output_type": "stream",
          "name": "stdout",
          "text": [
            "Overwriting addBlocks.cu\n"
          ]
        }
      ]
    },
    {
      "cell_type": "code",
      "source": [
        "!nvcc addBlocks.cu -o addB\n",
        "!./addB"
      ],
      "metadata": {
        "colab": {
          "base_uri": "https://localhost:8080/"
        },
        "id": "YXjBQ67ziPcx",
        "outputId": "80f59c55-4b91-4cb9-b5fb-3bdfe4e1eb1b"
      },
      "execution_count": 5,
      "outputs": [
        {
          "output_type": "stream",
          "name": "stdout",
          "text": [
            "Enter a number (>256) : 200\n",
            "Result : 11 13 15 17 19 21 23 25 27 29 31 33 35 37 39 41 43 45 47 49 51 53 55 57 59 61 63 65 67 69 71 73 75 77 79 81 83 85 87 89 91 93 95 97 99 101 103 105 107 109 111 113 115 117 119 121 123 125 127 129 131 133 135 137 139 141 143 145 147 149 151 153 155 157 159 161 163 165 167 169 171 173 175 177 179 181 183 185 187 189 191 193 195 197 199 201 203 205 207 209 211 213 215 217 219 221 223 225 227 229 231 233 235 237 239 241 243 245 247 249 251 253 255 257 259 261 263 265 267 269 271 273 275 277 279 281 283 285 287 289 291 293 295 297 299 301 303 305 307 309 311 313 315 317 319 321 323 325 327 329 331 333 335 337 339 341 343 345 347 349 351 353 355 357 359 361 363 365 367 369 371 373 375 377 379 381 383 385 387 389 391 393 395 397 399 401 403 405 407 409 "
          ]
        }
      ]
    },
    {
      "cell_type": "markdown",
      "source": [
        "## 1D Convolution"
      ],
      "metadata": {
        "id": "AZQyhHXLlV7b"
      }
    },
    {
      "cell_type": "code",
      "source": [
        "%%writefile convolution.cu\n",
        "#include<stdio.h>\n",
        "#include \"cuda_runtime.h\"\n",
        "#include \"device_launch_parameters.h\"\n",
        "\n",
        "__global__ void convolution(int *arr, int *mask, int *res, int m,int n)\n",
        "{\n",
        "  int i=threadIdx.x;\n",
        "\n",
        "  int start=i-(m/2);\n",
        "  int val=0;\n",
        "  for(int j=0;j<m;j++)\n",
        "  {\n",
        "    if(start+j>=0 && start+j<n)\n",
        "    {\n",
        "      val+=arr[start+j]*mask[j];\n",
        "    }\n",
        "    res[i]=val;\n",
        "  }\n",
        "\n",
        "}\n",
        "\n",
        "int main()\n",
        "{\n",
        "  int n,m;\n",
        "\n",
        "  printf(\"Enter array size and convolution width(odd) : \");\n",
        "  scanf(\"%d%d\",&n,&m);\n",
        "\n",
        "  int arr[n];\n",
        "  int mask[m];\n",
        "  int res[n];\n",
        "\n",
        "  printf(\"Enter %d elements : \",n);\n",
        "  for(int i=0;i<n;i++)\n",
        "    scanf(\"%d\",&arr[i]);\n",
        "\n",
        "  printf(\"Enter %d mask elements : \",m);\n",
        "  for(int i=0;i<m;i++)\n",
        "    scanf(\"%d\",&mask[i]);\n",
        "\n",
        "    int *d_A,*d_M,*d_res;\n",
        "\n",
        "    cudaMalloc((void**)&d_A,n*sizeof(int));\n",
        "    cudaMalloc((void**)&d_M,m*sizeof(int));\n",
        "    cudaMalloc((void**)&d_res,n*sizeof(int));\n",
        "\n",
        "    cudaMemcpy(d_A,arr,n*sizeof(int),cudaMemcpyHostToDevice);\n",
        "    cudaMemcpy(d_M,mask,m*sizeof(int),cudaMemcpyHostToDevice);\n",
        "\n",
        "    convolution<<<1,n>>>(d_A,d_M,d_res,m,n);\n",
        "    cudaMemcpy(res,d_res,n*sizeof(int),cudaMemcpyDeviceToHost);\n",
        "\n",
        "    for(int i=0;i<n;i++)\n",
        "      printf(\"%d \",res[i]);\n",
        "\n",
        "  return 1;\n",
        "}"
      ],
      "metadata": {
        "colab": {
          "base_uri": "https://localhost:8080/"
        },
        "id": "pYbXSWAMlcEr",
        "outputId": "2d2298c9-2cfa-48cd-c85f-998f61377e16"
      },
      "execution_count": 12,
      "outputs": [
        {
          "output_type": "stream",
          "name": "stdout",
          "text": [
            "Overwriting convolution.cu\n"
          ]
        }
      ]
    },
    {
      "cell_type": "code",
      "source": [
        "!nvcc convolution.cu -o conv\n",
        "!./conv"
      ],
      "metadata": {
        "colab": {
          "base_uri": "https://localhost:8080/"
        },
        "id": "trDljNsMpGZS",
        "outputId": "a86be97d-a48c-4677-9207-2b88ee1f9ac0"
      },
      "execution_count": 13,
      "outputs": [
        {
          "output_type": "stream",
          "name": "stdout",
          "text": [
            "Enter array size and convolution width(odd) : 7\n",
            "5\n",
            "Enter 7 elements : 1\n",
            "2\n",
            "3\n",
            "4\n",
            "5\n",
            "6\n",
            "7\n",
            "Enter 5 mask elements : 1\n",
            "2\n",
            "3\n",
            "4\n",
            "5\n",
            "26 40 55 70 85 60 38 "
          ]
        }
      ]
    },
    {
      "cell_type": "markdown",
      "source": [
        "## Sine function"
      ],
      "metadata": {
        "id": "tch1GzAYq46d"
      }
    },
    {
      "cell_type": "code",
      "source": [
        "%%writefile sine.cu\n",
        "#include<stdio.h>\n",
        "#include \"cuda_runtime.h\"\n",
        "#include \"device_launch_parameters.h\"\n",
        "\n",
        "__global__ void calculate(float *arr, float *res)\n",
        "{\n",
        "  int i=threadIdx.x;\n",
        "\n",
        "  res[i]=sin(arr[i]);\n",
        "}\n",
        "\n",
        "int main()\n",
        "{\n",
        "  int n;\n",
        "  printf(\"Enter array size : \");\n",
        "  scanf(\"%d\",&n);\n",
        "\n",
        "  float arr[n];\n",
        "  float res[n];\n",
        "  printf(\"Enter %d angles in radians : \",n);\n",
        "  for(int i=0;i<n;i++)\n",
        "    scanf(\"%f\",&arr[i]);\n",
        "\n",
        "  float *d_A,*d_res;\n",
        "\n",
        "  cudaMalloc((void**)&d_A,n*sizeof(float));\n",
        "  cudaMalloc((void**)&d_res,n*sizeof(float));\n",
        "\n",
        "  cudaMemcpy(d_A,arr,n*sizeof(float),cudaMemcpyHostToDevice);\n",
        "\n",
        "  calculate<<<1,n>>>(d_A,d_res);\n",
        "  cudaMemcpy(res,d_res,n*sizeof(float),cudaMemcpyDeviceToHost);\n",
        "\n",
        "  for(int i=0;i<n;i++)\n",
        "    printf(\"Sine of %f = %f\\n\",arr[i],res[i]);\n",
        "  return 1;\n",
        "}"
      ],
      "metadata": {
        "colab": {
          "base_uri": "https://localhost:8080/"
        },
        "id": "z58laFrSq8Gl",
        "outputId": "0a45207a-9ab0-4171-c6d7-e9e475ce7344"
      },
      "execution_count": 22,
      "outputs": [
        {
          "output_type": "stream",
          "name": "stdout",
          "text": [
            "Overwriting sine.cu\n"
          ]
        }
      ]
    },
    {
      "cell_type": "code",
      "source": [
        "!nvcc sine.cu -o sine\n",
        "!./sine"
      ],
      "metadata": {
        "colab": {
          "base_uri": "https://localhost:8080/"
        },
        "id": "AL45qZJWs7Cu",
        "outputId": "e4b8679d-6240-4ed5-c032-887f2bdcf253"
      },
      "execution_count": 23,
      "outputs": [
        {
          "output_type": "stream",
          "name": "stdout",
          "text": [
            "Enter array size : 3\n",
            "Enter 3 angles in radians : 1.57\n",
            "3.14\n",
            "4.71\n",
            "Sine of 1.570000 = 1.000000\n",
            "Sine of 3.140000 = 0.001593\n",
            "Sine of 4.710000 = -0.999997\n"
          ]
        }
      ]
    }
  ]
}